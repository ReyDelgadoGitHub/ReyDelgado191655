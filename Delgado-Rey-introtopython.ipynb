{
 "cells": [
  {
   "cell_type": "markdown",
   "metadata": {},
   "source": [
    "**191655**\n",
    "**Delgado**\n",
    "**2 BS ITE**\n"
   ]
  },
  {
   "cell_type": "code",
   "execution_count": 11,
   "metadata": {},
   "outputs": [
    {
     "name": "stdout",
     "output_type": "stream",
     "text": [
      "Enter a number :- 1\n",
      "Enter a number :- 2\n",
      "Enter a number :- 3\n",
      "The average of the numbers is = 2.0\n"
     ]
    }
   ],
   "source": [
    "num1 = float(eval(input(\"Enter a number :- \"))) \n",
    "num2 = float(eval(input(\"Enter a number :- \"))) \n",
    "num3 = float(eval(input(\"Enter a number :- \"))) \n",
    " \n",
    "avgNum = (num1 + num2 + num3)/3 \n",
    " \n",
    "print(f\"The average of the numbers is = {avgNum}\") "
   ]
  },
  {
   "cell_type": "code",
   "execution_count": null,
   "metadata": {},
   "outputs": [],
   "source": []
  }
 ],
 "metadata": {
  "kernelspec": {
   "display_name": "Python 3",
   "language": "python",
   "name": "python3"
  },
  "language_info": {
   "codemirror_mode": {
    "name": "ipython",
    "version": 3
   },
   "file_extension": ".py",
   "mimetype": "text/x-python",
   "name": "python",
   "nbconvert_exporter": "python",
   "pygments_lexer": "ipython3",
   "version": "3.8.3"
  }
 },
 "nbformat": 4,
 "nbformat_minor": 4
}
